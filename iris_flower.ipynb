{
 "cells": [
  {
   "cell_type": "markdown",
   "id": "17f1ce26",
   "metadata": {},
   "source": [
    "# NAME:AAKASH SHYAMLAL GUPTA\n",
    "\n",
    "# TASK NO 1: Iris Flower Classification\n"
   ]
  },
  {
   "cell_type": "markdown",
   "id": "8a307a21",
   "metadata": {},
   "source": [
    "# Importing Libraries\n"
   ]
  },
  {
   "cell_type": "code",
   "execution_count": null,
   "id": "49880a06",
   "metadata": {},
   "outputs": [],
   "source": [
    "import numpy as np\n",
    "import matplotlib.pyplot as plt\n",
    "import seaborn as sns \n",
    "import pandas as pd\n",
    "from sklearn.datasets import load_iris\n"
   ]
  },
  {
   "cell_type": "code",
   "execution_count": null,
   "id": "16c97299",
   "metadata": {},
   "outputs": [],
   "source": [
    "iris=load_iris()"
   ]
  },
  {
   "cell_type": "markdown",
   "id": "c84e1d3a",
   "metadata": {},
   "source": [
    "# Load Dataset"
   ]
  },
  {
   "cell_type": "code",
   "execution_count": null,
   "id": "062f30ec",
   "metadata": {},
   "outputs": [],
   "source": [
    "iris=pd.read_csv('iris.csv')"
   ]
  },
  {
   "cell_type": "markdown",
   "id": "c5c304e2",
   "metadata": {},
   "source": [
    "# Analyze & Visualize the dataset"
   ]
  },
  {
   "cell_type": "code",
   "execution_count": null,
   "id": "8c20d4d4",
   "metadata": {},
   "outputs": [],
   "source": [
    "iris.head()"
   ]
  },
  {
   "cell_type": "code",
   "execution_count": null,
   "id": "26a7ea43",
   "metadata": {},
   "outputs": [],
   "source": [
    "iris.tail()"
   ]
  },
  {
   "cell_type": "code",
   "execution_count": null,
   "id": "fe31a6ac",
   "metadata": {},
   "outputs": [],
   "source": [
    "iris.shape"
   ]
  },
  {
   "cell_type": "code",
   "execution_count": null,
   "id": "f7ac5d87",
   "metadata": {},
   "outputs": [],
   "source": [
    "iris.columns"
   ]
  },
  {
   "cell_type": "code",
   "execution_count": null,
   "id": "1d6acd24",
   "metadata": {},
   "outputs": [],
   "source": [
    "iris.isnull().any()"
   ]
  },
  {
   "cell_type": "code",
   "execution_count": null,
   "id": "9899b88b",
   "metadata": {},
   "outputs": [],
   "source": [
    "iris.info()"
   ]
  },
  {
   "cell_type": "code",
   "execution_count": null,
   "id": "1e5a05eb",
   "metadata": {},
   "outputs": [],
   "source": [
    "iris.duplicated().sum()"
   ]
  },
  {
   "cell_type": "code",
   "execution_count": null,
   "id": "0734a258",
   "metadata": {},
   "outputs": [],
   "source": [
    "iris=iris.drop_duplicates()"
   ]
  },
  {
   "cell_type": "code",
   "execution_count": null,
   "id": "532eb269",
   "metadata": {},
   "outputs": [],
   "source": [
    "iris.duplicated().sum()"
   ]
  },
  {
   "cell_type": "code",
   "execution_count": null,
   "id": "5d7c547b",
   "metadata": {},
   "outputs": [],
   "source": [
    "iris.shape"
   ]
  },
  {
   "cell_type": "code",
   "execution_count": null,
   "id": "772d11d1",
   "metadata": {},
   "outputs": [],
   "source": [
    "iris.describe()"
   ]
  },
  {
   "cell_type": "code",
   "execution_count": null,
   "id": "bc62715d",
   "metadata": {
    "scrolled": true
   },
   "outputs": [],
   "source": [
    "iris['Species'].value_counts()"
   ]
  },
  {
   "cell_type": "markdown",
   "id": "a58dfd9f",
   "metadata": {},
   "source": [
    "# Visualization"
   ]
  },
  {
   "cell_type": "code",
   "execution_count": null,
   "id": "2f7978b6",
   "metadata": {},
   "outputs": [],
   "source": [
    "sns.pairplot(data=iris,hue='Species')"
   ]
  },
  {
   "cell_type": "code",
   "execution_count": null,
   "id": "7dff1ff7",
   "metadata": {},
   "outputs": [],
   "source": [
    "corr=iris.corr()\n",
    "plt.figure(figsize=(8,8))\n",
    "sns.heatmap(data=corr,annot=True,cmap='Blues',linewidth=1,linecolor='Black')\n",
    "plt.title(\"Correlation Between Variable\",size=15)\n",
    "plt.xticks(rotation=35,size=12)\n",
    "plt.yticks(rotation=35,size=12)\n",
    "plt.show()"
   ]
  },
  {
   "cell_type": "code",
   "execution_count": null,
   "id": "a93257f9",
   "metadata": {},
   "outputs": [],
   "source": [
    "corr"
   ]
  },
  {
   "cell_type": "code",
   "execution_count": null,
   "id": "e57d41a6",
   "metadata": {},
   "outputs": [],
   "source": [
    "sns.jointplot(x=\"PetalLengthCm\",y=\"PetalWidthCm\",data=iris,height=9)"
   ]
  },
  {
   "cell_type": "code",
   "execution_count": null,
   "id": "66e1e0d7",
   "metadata": {},
   "outputs": [],
   "source": [
    "sns.jointplot(x=\"PetalLengthCm\",y=\"PetalWidthCm\",data=iris,height=10,hue='Species')"
   ]
  },
  {
   "cell_type": "code",
   "execution_count": null,
   "id": "346e8534",
   "metadata": {},
   "outputs": [],
   "source": [
    "plt.figure(figsize=(10,7))\n",
    "sns.lineplot(x='SepalWidthCm',y='PetalWidthCm',data=iris)\n",
    "plt.show()"
   ]
  },
  {
   "cell_type": "code",
   "execution_count": null,
   "id": "55b77671",
   "metadata": {},
   "outputs": [],
   "source": [
    "plt.figure(figsize=(10,7))\n",
    "sns.lineplot(x='SepalWidthCm',y='PetalWidthCm',data=iris,hue='Species')\n",
    "plt.legend()\n",
    "plt.show()"
   ]
  },
  {
   "cell_type": "code",
   "execution_count": null,
   "id": "2e64d770",
   "metadata": {},
   "outputs": [],
   "source": [
    "columns_name=iris.columns\n",
    "columns_name=columns_name.drop('Species')\n",
    "for c in columns_name:\n",
    " plt.figure(figsize=(10,7))\n",
    " sns.histplot(x=c,data=iris)\n",
    " plt.show()"
   ]
  },
  {
   "cell_type": "code",
   "execution_count": null,
   "id": "5e177ada",
   "metadata": {},
   "outputs": [],
   "source": [
    "columns_name=iris.columns\n",
    "columns_name=columns_name.drop('Species')\n",
    "for c in columns_name:\n",
    " plt.figure(figsize=(10,7))\n",
    " sns.histplot(x=c,hue='Species',data=iris)\n",
    " plt.show()"
   ]
  },
  {
   "cell_type": "markdown",
   "id": "89dc226f",
   "metadata": {},
   "source": [
    "# Train & Test Split"
   ]
  },
  {
   "cell_type": "code",
   "execution_count": null,
   "id": "9dff2bf5",
   "metadata": {},
   "outputs": [],
   "source": [
    "from sklearn.model_selection import train_test_split"
   ]
  },
  {
   "cell_type": "code",
   "execution_count": null,
   "id": "1b332e8d",
   "metadata": {},
   "outputs": [],
   "source": [
    "x=iris.drop('Species',axis=1)\n",
    "y=iris['Species']"
   ]
  },
  {
   "cell_type": "code",
   "execution_count": null,
   "id": "dc1a8a80",
   "metadata": {},
   "outputs": [],
   "source": [
    "x_train,x_test,y_train,y_test=train_test_split(x,y,test_size=0.25)"
   ]
  },
  {
   "cell_type": "markdown",
   "id": "50509b0e",
   "metadata": {},
   "source": [
    "# Decision Tree"
   ]
  },
  {
   "cell_type": "code",
   "execution_count": null,
   "id": "57716d39",
   "metadata": {},
   "outputs": [],
   "source": [
    "from sklearn.tree import DecisionTreeClassifier "
   ]
  },
  {
   "cell_type": "code",
   "execution_count": null,
   "id": "01a5cbeb",
   "metadata": {},
   "outputs": [],
   "source": [
    "dt=DecisionTreeClassifier()"
   ]
  },
  {
   "cell_type": "code",
   "execution_count": null,
   "id": "8a815290",
   "metadata": {},
   "outputs": [],
   "source": [
    "dt.fit(x_train,y_train)"
   ]
  },
  {
   "cell_type": "markdown",
   "id": "fb96aecb",
   "metadata": {},
   "source": [
    "# Prediction"
   ]
  },
  {
   "cell_type": "code",
   "execution_count": null,
   "id": "56ed03b4",
   "metadata": {
    "scrolled": false
   },
   "outputs": [],
   "source": [
    "predictions=dt.predict(x_test)\n",
    "df1=x_test\n",
    "df1 =df1.assign(Species=predictions)\n",
    "print(df1)"
   ]
  },
  {
   "cell_type": "code",
   "execution_count": null,
   "id": "1faff0e4",
   "metadata": {},
   "outputs": [],
   "source": [
    "from sklearn.metrics import classification_report,confusion_matrix"
   ]
  },
  {
   "cell_type": "code",
   "execution_count": null,
   "id": "fe3e9649",
   "metadata": {},
   "outputs": [],
   "source": [
    "print(classification_report(y_test,predictions))"
   ]
  },
  {
   "cell_type": "code",
   "execution_count": null,
   "id": "fef091ad",
   "metadata": {},
   "outputs": [],
   "source": [
    "print(confusion_matrix(y_test,predictions))"
   ]
  }
 ],
 "metadata": {
  "kernelspec": {
   "display_name": "Python 3 (ipykernel)",
   "language": "python",
   "name": "python3"
  },
  "language_info": {
   "codemirror_mode": {
    "name": "ipython",
    "version": 3
   },
   "file_extension": ".py",
   "mimetype": "text/x-python",
   "name": "python",
   "nbconvert_exporter": "python",
   "pygments_lexer": "ipython3",
   "version": "3.9.12"
  }
 },
 "nbformat": 4,
 "nbformat_minor": 5
}
